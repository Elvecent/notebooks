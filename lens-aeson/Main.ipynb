{
 "cells": [
  {
   "cell_type": "markdown",
   "id": "41948cc2",
   "metadata": {
    "slideshow": {
     "slide_type": "slide"
    }
   },
   "source": [
    "# Слабо структурированные данные сквозь призму Haskell"
   ]
  },
  {
   "cell_type": "markdown",
   "id": "6675fd0f",
   "metadata": {
    "slideshow": {
     "slide_type": "slide"
    }
   },
   "source": [
    "## Кто я?\n",
    "\n",
    "- Валявин Кирилл\n",
    "- Haskell разработчик (движок Тинькофф Путешествий)\n",
    "- Пишу на Haskell с 2018-го года"
   ]
  },
  {
   "cell_type": "markdown",
   "id": "337eb2a6",
   "metadata": {
    "slideshow": {
     "slide_type": "slide"
    }
   },
   "source": [
    "## Валидация данных\n",
    "  - Это антипаттерн!\n",
    "  - [Parse, don't validate](https://lexi-lambda.github.io/blog/2019/11/05/parse-don-t-validate/)\n",
    "  - Типы в Haskell хороши для моделирования\n",
    "  - Для JSON есть пакет [aeson](https://hackage.haskell.org/package/aeson)\n",
    "  - Но всегда ли удобно парсить?\n"
   ]
  },
  {
   "cell_type": "markdown",
   "id": "9fdac99a",
   "metadata": {
    "slideshow": {
     "slide_type": "slide"
    }
   },
   "source": [
    "## Слабо структурированные данные\n",
    "  - [No, dynamic type systems are not inherently more open](https://lexi-lambda.github.io/blog/2020/01/19/no-dynamic-type-systems-are-not-inherently-more-open/)\n",
    "  - Иногда удобнее работать с сырыми данными\n",
    "  - Но как это делать в Haskell?\n",
    "  - Оптика!"
   ]
  },
  {
   "cell_type": "markdown",
   "id": "6b97f900",
   "metadata": {
    "slideshow": {
     "slide_type": "slide"
    }
   },
   "source": [
    "## Оптика?\n",
    "* Композабельные первоклассные аксессоры\n",
    "* Позволяют проходить через рекорды, варианты, коллекции и т. д.\n",
    "* Подробнее в книге Криса Пеннера [Optics By Example](https://leanpub.com/optics-by-example)\n",
    "* Для JSON есть пакет [lens-aeson](https://hackage.haskell.org/package/lens-aeson)"
   ]
  },
  {
   "cell_type": "markdown",
   "id": "7ad773a7",
   "metadata": {
    "slideshow": {
     "slide_type": "slide"
    }
   },
   "source": [
    "## Подготовка среды"
   ]
  },
  {
   "cell_type": "code",
   "execution_count": 3,
   "id": "3780692d",
   "metadata": {
    "scrolled": false,
    "slideshow": {
     "slide_type": "fragment"
    }
   },
   "outputs": [],
   "source": [
    ":set -XOverloadedStrings -XQuasiQuotes\n",
    ":set -XFlexibleContexts -XTypeApplications"
   ]
  },
  {
   "cell_type": "code",
   "execution_count": 4,
   "id": "a40f8f27",
   "metadata": {
    "scrolled": false,
    "slideshow": {
     "slide_type": "fragment"
    }
   },
   "outputs": [],
   "source": [
    "import Control.Lens\n",
    "import Data.Aeson\n",
    "import Data.Aeson.Lens\n",
    "\n",
    "import qualified Data.ByteString as BS\n",
    "import Chrono.TimeStamp"
   ]
  },
  {
   "cell_type": "markdown",
   "id": "54a9826f",
   "metadata": {
    "slideshow": {
     "slide_type": "slide"
    }
   },
   "source": [
    "## Поехали!"
   ]
  },
  {
   "cell_type": "code",
   "execution_count": 5,
   "id": "a58f4c4e",
   "metadata": {
    "scrolled": false,
    "slideshow": {
     "slide_type": "fragment"
    }
   },
   "outputs": [
    {
     "data": {
      "text/html": [
       "<style>/* Styles used for the Hoogle display in the pager */\n",
       ".hoogle-doc {\n",
       "display: block;\n",
       "padding-bottom: 1.3em;\n",
       "padding-left: 0.4em;\n",
       "}\n",
       ".hoogle-code {\n",
       "display: block;\n",
       "font-family: monospace;\n",
       "white-space: pre;\n",
       "}\n",
       ".hoogle-text {\n",
       "display: block;\n",
       "}\n",
       ".hoogle-name {\n",
       "color: green;\n",
       "font-weight: bold;\n",
       "}\n",
       ".hoogle-head {\n",
       "font-weight: bold;\n",
       "}\n",
       ".hoogle-sub {\n",
       "display: block;\n",
       "margin-left: 0.4em;\n",
       "}\n",
       ".hoogle-package {\n",
       "font-weight: bold;\n",
       "font-style: italic;\n",
       "}\n",
       ".hoogle-module {\n",
       "font-weight: bold;\n",
       "}\n",
       ".hoogle-class {\n",
       "font-weight: bold;\n",
       "}\n",
       ".get-type {\n",
       "color: green;\n",
       "font-weight: bold;\n",
       "font-family: monospace;\n",
       "display: block;\n",
       "white-space: pre-wrap;\n",
       "}\n",
       ".show-type {\n",
       "color: green;\n",
       "font-weight: bold;\n",
       "font-family: monospace;\n",
       "margin-left: 1em;\n",
       "}\n",
       ".mono {\n",
       "font-family: monospace;\n",
       "display: block;\n",
       "}\n",
       ".err-msg {\n",
       "color: red;\n",
       "font-style: italic;\n",
       "font-family: monospace;\n",
       "white-space: pre;\n",
       "display: block;\n",
       "}\n",
       "#unshowable {\n",
       "color: red;\n",
       "font-weight: bold;\n",
       "}\n",
       ".err-msg.in.collapse {\n",
       "padding-top: 0.7em;\n",
       "}\n",
       ".highlight-code {\n",
       "white-space: pre;\n",
       "font-family: monospace;\n",
       "}\n",
       ".suggestion-warning { \n",
       "font-weight: bold;\n",
       "color: rgb(200, 130, 0);\n",
       "}\n",
       ".suggestion-error { \n",
       "font-weight: bold;\n",
       "color: red;\n",
       "}\n",
       ".suggestion-name {\n",
       "font-weight: bold;\n",
       "}\n",
       "</style><div class=\"suggestion-name\" style=\"clear:both;\">Use ?~</div><div class=\"suggestion-row\" style=\"float: left;\"><div class=\"suggestion-warning\">Found:</div><div class=\"highlight-code\" id=\"haskell\">_Object . at \"y\" .~ Just (Integer 42)</div></div><div class=\"suggestion-row\" style=\"float: left;\"><div class=\"suggestion-warning\">Why Not:</div><div class=\"highlight-code\" id=\"haskell\">((_Object . at \"y\") ?~ Integer 42)</div></div>"
      ],
      "text/plain": [
       "Line 2: Use ?~\n",
       "Found:\n",
       "_Object . at \"y\" .~ Just (Integer 42)\n",
       "Why not:\n",
       "((_Object . at \"y\") ?~ Integer 42)"
      ]
     },
     "metadata": {},
     "output_type": "display_data"
    },
    {
     "data": {
      "text/plain": [
       "\"{\\\"x\\\":0,\\\"y\\\":42}\""
      ]
     },
     "metadata": {},
     "output_type": "display_data"
    },
    {
     "data": {
      "text/plain": [
       "\"{\\\"y\\\":42}\""
      ]
     },
     "metadata": {},
     "output_type": "display_data"
    }
   ],
   "source": [
    "y42 = \n",
    "  \"{\\\"x\\\":0}\" & _Object . at \"y\" .~ Just (Integer 42)\n",
    "y42\n",
    "y42 & _Object . at \"x\" .~ Nothing"
   ]
  },
  {
   "cell_type": "code",
   "execution_count": 6,
   "id": "999ba5da",
   "metadata": {
    "scrolled": false,
    "slideshow": {
     "slide_type": "fragment"
    }
   },
   "outputs": [
    {
     "data": {
      "text/plain": [
       "{\n",
       "    \"x\": 42\n",
       "}"
      ]
     },
     "metadata": {},
     "output_type": "display_data"
    }
   ],
   "source": [
    "makeReadable bs = -- IHaskell красиво печатает Value\n",
    "  bs ^?! _JSON @_ @Value\n",
    "\n",
    "makeReadable $\n",
    "  \"{}\" & _Object . at \"x\" . below _Integer ?~ 42"
   ]
  },
  {
   "cell_type": "markdown",
   "id": "cdd71e4b",
   "metadata": {
    "slideshow": {
     "slide_type": "slide"
    }
   },
   "source": [
    "#### Реальные данные (из \"Optics By Example\")"
   ]
  },
  {
   "cell_type": "code",
   "execution_count": 8,
   "id": "85ea0f47",
   "metadata": {
    "scrolled": false,
    "slideshow": {
     "slide_type": "subslide"
    }
   },
   "outputs": [
    {
     "data": {
      "text/plain": [
       "{\n",
       "    \"apiVersion\": \"v1\",\n",
       "    \"items\": [\n",
       "        {\n",
       "            \"apiVersion\": \"v1\",\n",
       "            \"kind\": \"Pod\",\n",
       "            \"metadata\": {\n",
       "                \"creationTimestamp\": \"2019-03-23T19:42:21Z\",\n",
       "                \"labels\": {\n",
       "                    \"name\": \"redis\",\n",
       "                    \"region\": \"usa\"\n",
       "                },\n",
       "                \"name\": \"redis-h315w\"\n",
       "            },\n",
       "            \"spec\": {\n",
       "                \"containers\": [\n",
       "                    {\n",
       "                        \"image\": \"redis\",\n",
       "                        \"name\": \"redis\",\n",
       "                        \"ports\": [\n",
       "                            {\n",
       "                                \"containerPort\": 27017,\n",
       "                                \"hostPort\": 27017,\n",
       "                                \"name\": \"redis\",\n",
       "                                \"protocol\": \"TCP\"\n",
       "                            }\n",
       "                        ],\n",
       "                        \"resources\": {\n",
       "                            \"requests\": {\n",
       "                                \"cpu\": \"100m\"\n",
       "                            }\n",
       "                        }\n",
       "                    }\n",
       "                ]\n",
       "            }\n",
       "        },\n",
       "        {\n",
       "            \"apiVersion\": \"v1\",\n",
       "            \"kind\": \"Pod\",\n",
       "            \"metadata\": {\n",
       "                \"creationTimestamp\": \"2019-02-24T20:23:56Z\",\n",
       "                \"labels\": {\n",
       "                    \"name\": \"web\",\n",
       "                    \"region\": \"usa\"\n",
       "                },\n",
       "                \"name\": \"web-4c5bj\"\n",
       "            },\n",
       "            \"spec\": {\n",
       "                \"containers\": [\n",
       "                    {\n",
       "                        \"image\": \"server\",\n",
       "                        \"name\": \"web\",\n",
       "                        \"ports\": [\n",
       "                            {\n",
       "                                \"containerPort\": 3000,\n",
       "                                \"name\": \"http-server\",\n",
       "                                \"protocol\": \"TCP\"\n",
       "                            }\n",
       "                        ],\n",
       "                        \"resources\": {\n",
       "                            \"requests\": {\n",
       "                                \"cpu\": \"100m\"\n",
       "                            }\n",
       "                        }\n",
       "                    }\n",
       "                ]\n",
       "            }\n",
       "        }\n",
       "    ],\n",
       "    \"kind\": \"List\"\n",
       "}"
      ]
     },
     "metadata": {},
     "output_type": "display_data"
    }
   ],
   "source": [
    "pods <- BS.readFile \"pods.json\"\n",
    "pods & makeReadable"
   ]
  },
  {
   "cell_type": "code",
   "execution_count": 9,
   "id": "74726106",
   "metadata": {
    "scrolled": false,
    "slideshow": {
     "slide_type": "subslide"
    }
   },
   "outputs": [
    {
     "data": {
      "text/plain": [
       "[\"Pod\",\"Pod\"]"
      ]
     },
     "metadata": {},
     "output_type": "display_data"
    }
   ],
   "source": [
    "pods ^.. key \"items\" . values . key \"kind\" . _String"
   ]
  },
  {
   "cell_type": "markdown",
   "id": "934c770e",
   "metadata": {
    "slideshow": {
     "slide_type": "slide"
    }
   },
   "source": [
    "#### Но теперь мы снова хотим парсить"
   ]
  },
  {
   "cell_type": "code",
   "execution_count": 10,
   "id": "934c4a60",
   "metadata": {
    "scrolled": false,
    "slideshow": {
     "slide_type": "subslide"
    }
   },
   "outputs": [
    {
     "data": {
      "text/plain": [
       "Just 2019-03-23T19:42:21.000000000Z"
      ]
     },
     "metadata": {},
     "output_type": "display_data"
    }
   ],
   "source": [
    "items = key \"items\" . values\n",
    "\n",
    "pods ^? items\n",
    "      . key \"metadata\" \n",
    "      . key \"creationTimestamp\"\n",
    "      . _JSON @_ @TimeStamp"
   ]
  },
  {
   "cell_type": "code",
   "execution_count": 11,
   "id": "af41b3df",
   "metadata": {
    "scrolled": false,
    "slideshow": {
     "slide_type": "subslide"
    }
   },
   "outputs": [
    {
     "data": {
      "text/plain": [
       "{\n",
       "    \"creationTimestamp\": \"2019-03-23T19:42:21Z\",\n",
       "    \"labels\": {\n",
       "        \"name\": \"redis\",\n",
       "        \"region\": \"usa\"\n",
       "    },\n",
       "    \"name\": \"redis-h315w\"\n",
       "}"
      ]
     },
     "metadata": {},
     "output_type": "display_data"
    }
   ],
   "source": [
    "metadataTimestamp =\n",
    "    key \"metadata\" \n",
    "  . key \"creationTimestamp\"\n",
    "  . _JSON @_ @TimeStamp\n",
    "\n",
    "mar19 = \n",
    "  read @TimeStamp \"2019-03-00T00:00:00Z\"\n",
    "\n",
    "pods ^.. items\n",
    "       . filteredBy ( metadataTimestamp\n",
    "                    . to (compare mar19)\n",
    "                    . only LT) -- те, что созданы до 19 марта\n",
    "       . key \"metadata\""
   ]
  },
  {
   "cell_type": "markdown",
   "id": "9f49925c",
   "metadata": {
    "slideshow": {
     "slide_type": "slide"
    }
   },
   "source": [
    "#### Индексы"
   ]
  },
  {
   "cell_type": "code",
   "execution_count": 13,
   "id": "93ba1543",
   "metadata": {
    "scrolled": false,
    "slideshow": {
     "slide_type": "fragment"
    }
   },
   "outputs": [
    {
     "data": {
      "text/plain": [
       "{\n",
       "    \"x\": 0,\n",
       "    \"y\": 42\n",
       "}"
      ]
     },
     "metadata": {},
     "output_type": "display_data"
    },
    {
     "data": {
      "text/plain": [
       "[(Number 0.0,Number 0.0),(Number 42.0,Number 42.0)]"
      ]
     },
     "metadata": {},
     "output_type": "display_data"
    }
   ],
   "source": [
    "let xy = \"{ \\\"x\\\": 0, \\\"y\\\": 42}\"\n",
    "\n",
    "makeReadable $ -- ничего не меняем, но зависим от индекса\n",
    "  xy & members %@~ \\i v -> v\n",
    "\n",
    "xy ^@.. members . reindexed id selfIndex"
   ]
  },
  {
   "cell_type": "code",
   "execution_count": null,
   "id": "ad0c49da",
   "metadata": {
    "scrolled": false,
    "slideshow": {
     "slide_type": "slide"
    }
   },
   "outputs": [
    {
     "data": {
      "text/plain": [
       "{\n",
       "    \"name\": \"redis-usa\",\n",
       "    \"region\": \"usa\"\n",
       "}"
      ]
     },
     "metadata": {},
     "output_type": "display_data"
    },
    {
     "data": {
      "text/plain": [
       "{\n",
       "    \"name\": \"web-usa\",\n",
       "    \"region\": \"usa\"\n",
       "}"
      ]
     },
     "metadata": {},
     "output_type": "display_data"
    }
   ],
   "source": [
    "metadataRegion =\n",
    "    key \"metadata\"\n",
    "  . key \"labels\"\n",
    "  . key \"region\"\n",
    "  . _String\n",
    "\n",
    "withRegion =\n",
    "  pods & items\n",
    "       . reindexed ( view metadataRegion ) selfIndex\n",
    "      <. key \"metadata\" . key \"labels\" . key \"name\" . _String\n",
    "     %@~ \\region name -> name <> \"-\" <> region\n",
    "     \n",
    "withRegion ^.. items . key \"metadata\" . key \"labels\""
   ]
  },
  {
   "cell_type": "markdown",
   "id": "5b40e566",
   "metadata": {
    "slideshow": {
     "slide_type": "slide"
    }
   },
   "source": [
    "## Спасибо за внимание!\n",
    "### Вопросы?"
   ]
  }
 ],
 "metadata": {
  "celltoolbar": "Slideshow",
  "kernelspec": {
   "display_name": "Haskell",
   "language": "haskell",
   "name": "haskell"
  },
  "language_info": {
   "codemirror_mode": "ihaskell",
   "file_extension": ".hs",
   "mimetype": "text/x-haskell",
   "name": "haskell",
   "pygments_lexer": "Haskell",
   "version": "9.0.2"
  }
 },
 "nbformat": 4,
 "nbformat_minor": 5
}
