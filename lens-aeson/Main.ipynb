{
 "cells": [
  {
   "cell_type": "markdown",
   "id": "7ad773a7",
   "metadata": {
    "slideshow": {
     "slide_type": "slide"
    }
   },
   "source": [
    "## First, some setting up"
   ]
  },
  {
   "cell_type": "code",
   "execution_count": 1,
   "id": "3780692d",
   "metadata": {
    "slideshow": {
     "slide_type": "fragment"
    }
   },
   "outputs": [],
   "source": [
    ":set -XOverloadedStrings -XQuasiQuotes\n",
    ":set -XFlexibleContexts -XTypeApplications"
   ]
  },
  {
   "cell_type": "code",
   "execution_count": 2,
   "id": "a40f8f27",
   "metadata": {
    "slideshow": {
     "slide_type": "fragment"
    }
   },
   "outputs": [],
   "source": [
    "import Control.Lens\n",
    "import Data.Aeson\n",
    "import Data.Aeson.Lens\n",
    "\n",
    "import qualified Data.ByteString as BS\n",
    "import Chrono.TimeStamp"
   ]
  },
  {
   "cell_type": "markdown",
   "id": "54a9826f",
   "metadata": {
    "slideshow": {
     "slide_type": "slide"
    }
   },
   "source": [
    "## Let's go!"
   ]
  },
  {
   "cell_type": "code",
   "execution_count": 3,
   "id": "a58f4c4e",
   "metadata": {
    "slideshow": {
     "slide_type": "fragment"
    }
   },
   "outputs": [
    {
     "data": {
      "text/html": [
       "<style>/* Styles used for the Hoogle display in the pager */\n",
       ".hoogle-doc {\n",
       "display: block;\n",
       "padding-bottom: 1.3em;\n",
       "padding-left: 0.4em;\n",
       "}\n",
       ".hoogle-code {\n",
       "display: block;\n",
       "font-family: monospace;\n",
       "white-space: pre;\n",
       "}\n",
       ".hoogle-text {\n",
       "display: block;\n",
       "}\n",
       ".hoogle-name {\n",
       "color: green;\n",
       "font-weight: bold;\n",
       "}\n",
       ".hoogle-head {\n",
       "font-weight: bold;\n",
       "}\n",
       ".hoogle-sub {\n",
       "display: block;\n",
       "margin-left: 0.4em;\n",
       "}\n",
       ".hoogle-package {\n",
       "font-weight: bold;\n",
       "font-style: italic;\n",
       "}\n",
       ".hoogle-module {\n",
       "font-weight: bold;\n",
       "}\n",
       ".hoogle-class {\n",
       "font-weight: bold;\n",
       "}\n",
       ".get-type {\n",
       "color: green;\n",
       "font-weight: bold;\n",
       "font-family: monospace;\n",
       "display: block;\n",
       "white-space: pre-wrap;\n",
       "}\n",
       ".show-type {\n",
       "color: green;\n",
       "font-weight: bold;\n",
       "font-family: monospace;\n",
       "margin-left: 1em;\n",
       "}\n",
       ".mono {\n",
       "font-family: monospace;\n",
       "display: block;\n",
       "}\n",
       ".err-msg {\n",
       "color: red;\n",
       "font-style: italic;\n",
       "font-family: monospace;\n",
       "white-space: pre;\n",
       "display: block;\n",
       "}\n",
       "#unshowable {\n",
       "color: red;\n",
       "font-weight: bold;\n",
       "}\n",
       ".err-msg.in.collapse {\n",
       "padding-top: 0.7em;\n",
       "}\n",
       ".highlight-code {\n",
       "white-space: pre;\n",
       "font-family: monospace;\n",
       "}\n",
       ".suggestion-warning { \n",
       "font-weight: bold;\n",
       "color: rgb(200, 130, 0);\n",
       "}\n",
       ".suggestion-error { \n",
       "font-weight: bold;\n",
       "color: red;\n",
       "}\n",
       ".suggestion-name {\n",
       "font-weight: bold;\n",
       "}\n",
       "</style><div class=\"suggestion-name\" style=\"clear:both;\">Use ?~</div><div class=\"suggestion-row\" style=\"float: left;\"><div class=\"suggestion-warning\">Found:</div><div class=\"highlight-code\" id=\"haskell\">_Object . at \"x\" .~ Just (Integer 42)</div></div><div class=\"suggestion-row\" style=\"float: left;\"><div class=\"suggestion-warning\">Why Not:</div><div class=\"highlight-code\" id=\"haskell\">((_Object . at \"x\") ?~ Integer 42)</div></div>"
      ],
      "text/plain": [
       "Line 2: Use ?~\n",
       "Found:\n",
       "_Object . at \"x\" .~ Just (Integer 42)\n",
       "Why not:\n",
       "((_Object . at \"x\") ?~ Integer 42)"
      ]
     },
     "metadata": {},
     "output_type": "display_data"
    },
    {
     "data": {
      "text/plain": [
       "\"{\\\"x\\\":42}\""
      ]
     },
     "metadata": {},
     "output_type": "display_data"
    }
   ],
   "source": [
    "x42 = \n",
    "  \"{}\" & _Object . at \"x\" .~ Just (Integer 42)\n",
    "x42"
   ]
  },
  {
   "cell_type": "code",
   "execution_count": 4,
   "id": "999ba5da",
   "metadata": {
    "slideshow": {
     "slide_type": "fragment"
    }
   },
   "outputs": [
    {
     "data": {
      "text/plain": [
       "{\n",
       "    \"x\": 42\n",
       "}"
      ]
     },
     "metadata": {},
     "output_type": "display_data"
    }
   ],
   "source": [
    "makeReadable bs = -- IHaskell renders Values nicely\n",
    "  bs ^?! _JSON @_ @Value\n",
    "\n",
    "makeReadable $ \n",
    "  \"{}\" & _Object . at \"x\" . below _Integer ?~ 42"
   ]
  },
  {
   "cell_type": "markdown",
   "id": "cdd71e4b",
   "metadata": {
    "slideshow": {
     "slide_type": "slide"
    }
   },
   "source": [
    "#### Real life data (stolen from the awesome \"Optics By Example\")"
   ]
  },
  {
   "cell_type": "code",
   "execution_count": 5,
   "id": "85ea0f47",
   "metadata": {
    "slideshow": {
     "slide_type": "subslide"
    }
   },
   "outputs": [
    {
     "data": {
      "text/plain": [
       "{\n",
       "    \"apiVersion\": \"v1\",\n",
       "    \"items\": [\n",
       "        {\n",
       "            \"apiVersion\": \"v1\",\n",
       "            \"kind\": \"Pod\",\n",
       "            \"metadata\": {\n",
       "                \"creationTimestamp\": \"2019-03-23T19:42:21Z\",\n",
       "                \"labels\": {\n",
       "                    \"name\": \"redis\",\n",
       "                    \"region\": \"usa\"\n",
       "                },\n",
       "                \"name\": \"redis-h315w\"\n",
       "            },\n",
       "            \"spec\": {\n",
       "                \"containers\": [\n",
       "                    {\n",
       "                        \"image\": \"redis\",\n",
       "                        \"name\": \"redis\",\n",
       "                        \"ports\": [\n",
       "                            {\n",
       "                                \"containerPort\": 27017,\n",
       "                                \"hostPort\": 27017,\n",
       "                                \"name\": \"redis\",\n",
       "                                \"protocol\": \"TCP\"\n",
       "                            }\n",
       "                        ],\n",
       "                        \"resources\": {\n",
       "                            \"requests\": {\n",
       "                                \"cpu\": \"100m\"\n",
       "                            }\n",
       "                        }\n",
       "                    }\n",
       "                ]\n",
       "            }\n",
       "        },\n",
       "        {\n",
       "            \"apiVersion\": \"v1\",\n",
       "            \"kind\": \"Pod\",\n",
       "            \"metadata\": {\n",
       "                \"creationTimestamp\": \"2019-02-24T20:23:56Z\",\n",
       "                \"labels\": {\n",
       "                    \"name\": \"web\",\n",
       "                    \"region\": \"usa\"\n",
       "                },\n",
       "                \"name\": \"web-4c5bj\"\n",
       "            },\n",
       "            \"spec\": {\n",
       "                \"containers\": [\n",
       "                    {\n",
       "                        \"image\": \"server\",\n",
       "                        \"name\": \"web\",\n",
       "                        \"ports\": [\n",
       "                            {\n",
       "                                \"containerPort\": 3000,\n",
       "                                \"name\": \"http-server\",\n",
       "                                \"protocol\": \"TCP\"\n",
       "                            }\n",
       "                        ],\n",
       "                        \"resources\": {\n",
       "                            \"requests\": {\n",
       "                                \"cpu\": \"100m\"\n",
       "                            }\n",
       "                        }\n",
       "                    }\n",
       "                ]\n",
       "            }\n",
       "        }\n",
       "    ],\n",
       "    \"kind\": \"List\"\n",
       "}"
      ]
     },
     "metadata": {},
     "output_type": "display_data"
    }
   ],
   "source": [
    "pods <- BS.readFile \"pods.json\"\n",
    "pods & makeReadable"
   ]
  },
  {
   "cell_type": "code",
   "execution_count": 6,
   "id": "74726106",
   "metadata": {
    "slideshow": {
     "slide_type": "subslide"
    }
   },
   "outputs": [
    {
     "data": {
      "text/plain": [
       "[\"Pod\",\"Pod\"]"
      ]
     },
     "metadata": {},
     "output_type": "display_data"
    }
   ],
   "source": [
    "pods ^.. key \"items\" . values . key \"kind\" . _String"
   ]
  },
  {
   "cell_type": "code",
   "execution_count": 7,
   "id": "934c4a60",
   "metadata": {
    "slideshow": {
     "slide_type": "fragment"
    }
   },
   "outputs": [
    {
     "data": {
      "text/plain": [
       "Just 2019-03-23T19:42:21.000000000Z"
      ]
     },
     "metadata": {},
     "output_type": "display_data"
    }
   ],
   "source": [
    "items = key \"items\" . values\n",
    "\n",
    "pods ^? items\n",
    "      . key \"metadata\" \n",
    "      . key \"creationTimestamp\"\n",
    "      . _JSON @_ @TimeStamp"
   ]
  },
  {
   "cell_type": "code",
   "execution_count": 8,
   "id": "af41b3df",
   "metadata": {
    "slideshow": {
     "slide_type": "fragment"
    }
   },
   "outputs": [
    {
     "data": {
      "text/plain": [
       "{\n",
       "    \"creationTimestamp\": \"2019-03-23T19:42:21Z\",\n",
       "    \"labels\": {\n",
       "        \"name\": \"redis\",\n",
       "        \"region\": \"usa\"\n",
       "    },\n",
       "    \"name\": \"redis-h315w\"\n",
       "}"
      ]
     },
     "metadata": {},
     "output_type": "display_data"
    }
   ],
   "source": [
    "metadataTimestamp =\n",
    "    key \"metadata\" \n",
    "  . key \"creationTimestamp\"\n",
    "  . _JSON @_ @TimeStamp\n",
    "\n",
    "mar19 = \n",
    "  read @TimeStamp \"2019-03-00T00:00:00Z\"\n",
    "\n",
    "pods ^.. items\n",
    "       . filteredBy ( metadataTimestamp\n",
    "                    . to (compare mar19)\n",
    "                    . only LT) -- those before mar19\n",
    "       . key \"metadata\""
   ]
  },
  {
   "cell_type": "code",
   "execution_count": 9,
   "id": "ad0c49da",
   "metadata": {
    "slideshow": {
     "slide_type": "subslide"
    }
   },
   "outputs": [
    {
     "data": {
      "text/plain": [
       "{\n",
       "    \"apiVersion\": \"v1\",\n",
       "    \"items\": [\n",
       "        {\n",
       "            \"apiVersion\": \"v1\",\n",
       "            \"kind\": \"Pod\",\n",
       "            \"metadata\": {\n",
       "                \"creationTimestamp\": \"2019-03-23T19:42:21Z\",\n",
       "                \"labels\": {\n",
       "                    \"name\": \"redis-usa\",\n",
       "                    \"region\": \"usa\"\n",
       "                },\n",
       "                \"name\": \"redis-h315w\"\n",
       "            },\n",
       "            \"spec\": {\n",
       "                \"containers\": [\n",
       "                    {\n",
       "                        \"image\": \"redis\",\n",
       "                        \"name\": \"redis\",\n",
       "                        \"ports\": [\n",
       "                            {\n",
       "                                \"containerPort\": 27017,\n",
       "                                \"hostPort\": 27017,\n",
       "                                \"name\": \"redis\",\n",
       "                                \"protocol\": \"TCP\"\n",
       "                            }\n",
       "                        ],\n",
       "                        \"resources\": {\n",
       "                            \"requests\": {\n",
       "                                \"cpu\": \"100m\"\n",
       "                            }\n",
       "                        }\n",
       "                    }\n",
       "                ]\n",
       "            }\n",
       "        },\n",
       "        {\n",
       "            \"apiVersion\": \"v1\",\n",
       "            \"kind\": \"Pod\",\n",
       "            \"metadata\": {\n",
       "                \"creationTimestamp\": \"2019-02-24T20:23:56Z\",\n",
       "                \"labels\": {\n",
       "                    \"name\": \"web-usa\",\n",
       "                    \"region\": \"usa\"\n",
       "                },\n",
       "                \"name\": \"web-4c5bj\"\n",
       "            },\n",
       "            \"spec\": {\n",
       "                \"containers\": [\n",
       "                    {\n",
       "                        \"image\": \"server\",\n",
       "                        \"name\": \"web\",\n",
       "                        \"ports\": [\n",
       "                            {\n",
       "                                \"containerPort\": 3000,\n",
       "                                \"name\": \"http-server\",\n",
       "                                \"protocol\": \"TCP\"\n",
       "                            }\n",
       "                        ],\n",
       "                        \"resources\": {\n",
       "                            \"requests\": {\n",
       "                                \"cpu\": \"100m\"\n",
       "                            }\n",
       "                        }\n",
       "                    }\n",
       "                ]\n",
       "            }\n",
       "        }\n",
       "    ],\n",
       "    \"kind\": \"List\"\n",
       "}"
      ]
     },
     "metadata": {},
     "output_type": "display_data"
    }
   ],
   "source": [
    "metadataRegion =\n",
    "    key \"metadata\"\n",
    "  . key \"labels\"\n",
    "  . key \"region\"\n",
    "  . _String\n",
    "\n",
    "withRegion =\n",
    "  pods & items\n",
    "       . reindexed ( view metadataRegion ) selfIndex\n",
    "      <. key \"metadata\" . key \"labels\" . key \"name\" . _String\n",
    "     %@~ \\region name -> name <> \"-\" <> region\n",
    "\n",
    "withRegion & makeReadable"
   ]
  }
 ],
 "metadata": {
  "celltoolbar": "Слайд-шоу",
  "kernelspec": {
   "display_name": "Haskell",
   "language": "haskell",
   "name": "haskell"
  },
  "language_info": {
   "codemirror_mode": "ihaskell",
   "file_extension": ".hs",
   "mimetype": "text/x-haskell",
   "name": "haskell",
   "pygments_lexer": "Haskell",
   "version": "9.0.2"
  }
 },
 "nbformat": 4,
 "nbformat_minor": 5
}
